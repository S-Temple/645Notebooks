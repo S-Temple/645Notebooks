{
 "cells": [
  {
   "cell_type": "markdown",
   "id": "c66bab0f-8e32-4cab-bc22-9862f236c0a5",
   "metadata": {},
   "source": [
    "# Skin lesion segmentation\n",
    "Skin cancer, resulting from the exposure of skin to ultraviolet radioactivity released from the sun, is the most common type of cancer around the world. Melanoma, Basal cell, and Squamous cell carcinoma are considered the main types of cancer, with Melanoma being the most dangerous one.\n",
    "\n",
    "Here, the HAM 10000 dataset is used. This dataset consists of 10015 dermoscopic images of pigmented skin lesions, classified into seven categories, Actinic keratoses and intraepithelial carcinoma / Bowen's disease, basal cell carcinoma, benign keratosis-like lesions (solar lentigines / seborrheic keratoses and lichen-planus like keratosis), dermatofibroma, melanoma, melanocytic nevi,  and vascular lesions (angiomas, angiokeratomas, pyogenic granulomas and hemorrhage). The lesions are confirmed through histopathology, follow-up examination, expert consensus, or in-vivo confocal microscopy. This dataset also provides binary segmentation masks of these dermatoscopic images, which together with the HAM10000 diagnosis metadata can be used for object detection or semantic segmentation."
   ]
  },
  {
   "cell_type": "code",
   "execution_count": 1,
   "id": "a2114f0d-aa4d-4dd8-8e97-e54cb5263d01",
   "metadata": {},
   "outputs": [
    {
     "name": "stdout",
     "output_type": "stream",
     "text": [
      "cuda\n"
     ]
    }
   ],
   "source": [
    "%matplotlib inline\n",
    "import csv\n",
    "import os\n",
    "import numpy as np\n",
    "import pandas as pd\n",
    "from glob import glob\n",
    "import seaborn as sns\n",
    "from PIL import Image\n",
    "from PIL import ImageFile\n",
    "ImageFile.LOAD_TRUNCATED_IMAGES = True\n",
    "import matplotlib.pyplot as plt\n",
    "from tqdm import tqdm\n",
    "import albumentations as A\n",
    "from albumentations.pytorch import ToTensorV2\n",
    "\n",
    "from sklearn.preprocessing import MinMaxScaler, StandardScaler\n",
    "from sklearn.model_selection import train_test_split, KFold\n",
    "from sklearn.metrics import confusion_matrix, classification_report\n",
    "\n",
    "import torch\n",
    "import torchvision\n",
    "from torchvision import models, transforms\n",
    "import torchvision.transforms.functional as TF\n",
    "from torch.utils.data import Dataset, DataLoader\n",
    "import torch.nn as nn\n",
    "import torch.optim as optim\n",
    "from torch.optim import lr_scheduler\n",
    "\n",
    "device = 'cuda' if torch.cuda.is_available() else 'cpu'\n",
    "print(device)"
   ]
  },
  {
   "cell_type": "markdown",
   "id": "e26b32ac-bcf5-4a7f-bdc4-d6ef0a1968c5",
   "metadata": {},
   "source": [
    "### 1- Preprocessing and data cleaning"
   ]
  },
  {
   "cell_type": "markdown",
   "id": "b4b0b90b-88b0-4f1a-8b72-307620fbc3f1",
   "metadata": {},
   "source": [
    "##### The first step is to create an image path dictionary by merging images from both folders HAM10000_images_part_1 and HAM10000_images_part_2. Also, we created mask path dictionary."
   ]
  },
  {
   "cell_type": "code",
   "execution_count": 2,
   "id": "240d47a9-64d9-4a9e-ac4c-a1b176c73f8f",
   "metadata": {},
   "outputs": [],
   "source": [
    "base_skin_dir = os.path.join(\"skin_cancer/Final_project\")\n",
    "\n",
    "# Merging images from folders\n",
    "image_path_dict = {os.path.splitext(os.path.basename(x))[0]: x \n",
    "                   for x in glob(os.path.join(base_skin_dir, '*', '*.jpg'))}\n",
    "\n",
    "mask_path_dict = {os.path.splitext(os.path.basename(x))[0]: x \n",
    "                   for x in glob(os.path.join(base_skin_dir, '*', '*.png'))}\n",
    "\n",
    "# Creating a dictionary\n",
    "lesion_type_dict = {\n",
    "    'nv': 'Melanocytic nevi',\n",
    "    'mel': 'Melanoma',\n",
    "    'bkl': 'Benign keratosis-like lesions',\n",
    "    'bcc': 'Basal cell carcinoma',\n",
    "    'akiec': 'Actinic keratoses',\n",
    "    'vasc': 'Vascular lesions',\n",
    "    'df': 'Dermatofibroma'\n",
    "}"
   ]
  },
  {
   "cell_type": "code",
   "execution_count": 3,
   "id": "fe7eb7a0-6d74-4847-a8a4-d9628e6c1792",
   "metadata": {},
   "outputs": [
    {
     "data": {
      "text/html": [
       "<div>\n",
       "<style scoped>\n",
       "    .dataframe tbody tr th:only-of-type {\n",
       "        vertical-align: middle;\n",
       "    }\n",
       "\n",
       "    .dataframe tbody tr th {\n",
       "        vertical-align: top;\n",
       "    }\n",
       "\n",
       "    .dataframe thead th {\n",
       "        text-align: right;\n",
       "    }\n",
       "</style>\n",
       "<table border=\"1\" class=\"dataframe\">\n",
       "  <thead>\n",
       "    <tr style=\"text-align: right;\">\n",
       "      <th></th>\n",
       "      <th>lesion_id</th>\n",
       "      <th>image_id</th>\n",
       "      <th>dx</th>\n",
       "      <th>dx_type</th>\n",
       "      <th>age</th>\n",
       "      <th>sex</th>\n",
       "      <th>localization</th>\n",
       "      <th>mask_id</th>\n",
       "      <th>mask_path</th>\n",
       "      <th>path</th>\n",
       "      <th>cell_type</th>\n",
       "      <th>cell_type_idx</th>\n",
       "    </tr>\n",
       "  </thead>\n",
       "  <tbody>\n",
       "    <tr>\n",
       "      <th>0</th>\n",
       "      <td>HAM_0000118</td>\n",
       "      <td>ISIC_0027419</td>\n",
       "      <td>bkl</td>\n",
       "      <td>histo</td>\n",
       "      <td>80.0</td>\n",
       "      <td>male</td>\n",
       "      <td>scalp</td>\n",
       "      <td>ISIC_0027419_segmentation</td>\n",
       "      <td>skin_cancer/Final_project/HAM10000_segmentatio...</td>\n",
       "      <td>skin_cancer/Final_project/HAM10000_images_part...</td>\n",
       "      <td>Benign keratosis-like lesions</td>\n",
       "      <td>2</td>\n",
       "    </tr>\n",
       "    <tr>\n",
       "      <th>1</th>\n",
       "      <td>HAM_0000118</td>\n",
       "      <td>ISIC_0025030</td>\n",
       "      <td>bkl</td>\n",
       "      <td>histo</td>\n",
       "      <td>80.0</td>\n",
       "      <td>male</td>\n",
       "      <td>scalp</td>\n",
       "      <td>ISIC_0025030_segmentation</td>\n",
       "      <td>skin_cancer/Final_project/HAM10000_segmentatio...</td>\n",
       "      <td>skin_cancer/Final_project/HAM10000_images_part...</td>\n",
       "      <td>Benign keratosis-like lesions</td>\n",
       "      <td>2</td>\n",
       "    </tr>\n",
       "    <tr>\n",
       "      <th>2</th>\n",
       "      <td>HAM_0002730</td>\n",
       "      <td>ISIC_0026769</td>\n",
       "      <td>bkl</td>\n",
       "      <td>histo</td>\n",
       "      <td>80.0</td>\n",
       "      <td>male</td>\n",
       "      <td>scalp</td>\n",
       "      <td>ISIC_0026769_segmentation</td>\n",
       "      <td>skin_cancer/Final_project/HAM10000_segmentatio...</td>\n",
       "      <td>skin_cancer/Final_project/HAM10000_images_part...</td>\n",
       "      <td>Benign keratosis-like lesions</td>\n",
       "      <td>2</td>\n",
       "    </tr>\n",
       "    <tr>\n",
       "      <th>3</th>\n",
       "      <td>HAM_0002730</td>\n",
       "      <td>ISIC_0025661</td>\n",
       "      <td>bkl</td>\n",
       "      <td>histo</td>\n",
       "      <td>80.0</td>\n",
       "      <td>male</td>\n",
       "      <td>scalp</td>\n",
       "      <td>ISIC_0025661_segmentation</td>\n",
       "      <td>skin_cancer/Final_project/HAM10000_segmentatio...</td>\n",
       "      <td>skin_cancer/Final_project/HAM10000_images_part...</td>\n",
       "      <td>Benign keratosis-like lesions</td>\n",
       "      <td>2</td>\n",
       "    </tr>\n",
       "    <tr>\n",
       "      <th>4</th>\n",
       "      <td>HAM_0001466</td>\n",
       "      <td>ISIC_0031633</td>\n",
       "      <td>bkl</td>\n",
       "      <td>histo</td>\n",
       "      <td>75.0</td>\n",
       "      <td>male</td>\n",
       "      <td>ear</td>\n",
       "      <td>ISIC_0031633_segmentation</td>\n",
       "      <td>skin_cancer/Final_project/HAM10000_segmentatio...</td>\n",
       "      <td>skin_cancer/Final_project/HAM10000_images_part...</td>\n",
       "      <td>Benign keratosis-like lesions</td>\n",
       "      <td>2</td>\n",
       "    </tr>\n",
       "  </tbody>\n",
       "</table>\n",
       "</div>"
      ],
      "text/plain": [
       "     lesion_id      image_id   dx dx_type   age   sex localization  \\\n",
       "0  HAM_0000118  ISIC_0027419  bkl   histo  80.0  male        scalp   \n",
       "1  HAM_0000118  ISIC_0025030  bkl   histo  80.0  male        scalp   \n",
       "2  HAM_0002730  ISIC_0026769  bkl   histo  80.0  male        scalp   \n",
       "3  HAM_0002730  ISIC_0025661  bkl   histo  80.0  male        scalp   \n",
       "4  HAM_0001466  ISIC_0031633  bkl   histo  75.0  male          ear   \n",
       "\n",
       "                     mask_id  \\\n",
       "0  ISIC_0027419_segmentation   \n",
       "1  ISIC_0025030_segmentation   \n",
       "2  ISIC_0026769_segmentation   \n",
       "3  ISIC_0025661_segmentation   \n",
       "4  ISIC_0031633_segmentation   \n",
       "\n",
       "                                           mask_path  \\\n",
       "0  skin_cancer/Final_project/HAM10000_segmentatio...   \n",
       "1  skin_cancer/Final_project/HAM10000_segmentatio...   \n",
       "2  skin_cancer/Final_project/HAM10000_segmentatio...   \n",
       "3  skin_cancer/Final_project/HAM10000_segmentatio...   \n",
       "4  skin_cancer/Final_project/HAM10000_segmentatio...   \n",
       "\n",
       "                                                path  \\\n",
       "0  skin_cancer/Final_project/HAM10000_images_part...   \n",
       "1  skin_cancer/Final_project/HAM10000_images_part...   \n",
       "2  skin_cancer/Final_project/HAM10000_images_part...   \n",
       "3  skin_cancer/Final_project/HAM10000_images_part...   \n",
       "4  skin_cancer/Final_project/HAM10000_images_part...   \n",
       "\n",
       "                       cell_type  cell_type_idx  \n",
       "0  Benign keratosis-like lesions              2  \n",
       "1  Benign keratosis-like lesions              2  \n",
       "2  Benign keratosis-like lesions              2  \n",
       "3  Benign keratosis-like lesions              2  \n",
       "4  Benign keratosis-like lesions              2  "
      ]
     },
     "execution_count": 3,
     "metadata": {},
     "output_type": "execute_result"
    }
   ],
   "source": [
    "skin_df = pd.read_csv(os.path.join(base_skin_dir, 'HAM10000_metadata.csv'))\n",
    "\n",
    "skin_df['mask_id'] = skin_df['image_id'] + '_segmentation'\n",
    "skin_df['mask_path'] = skin_df['mask_id'].map(mask_path_dict.get)\n",
    "\n",
    "skin_df['path'] = skin_df['image_id'].map(image_path_dict.get)\n",
    "skin_df['cell_type'] = skin_df['dx'].map(lesion_type_dict.get)\n",
    "skin_df['cell_type_idx'] = pd.Categorical(skin_df['cell_type']).codes\n",
    "\n",
    "skin_df.head()"
   ]
  },
  {
   "cell_type": "markdown",
   "id": "99d0d79e-6121-4955-97c7-81d025b44f58",
   "metadata": {},
   "source": [
    "##### Finding missing values"
   ]
  },
  {
   "cell_type": "code",
   "execution_count": 4,
   "id": "0668b8ff-9394-474a-b742-36952e19c9bc",
   "metadata": {},
   "outputs": [
    {
     "data": {
      "text/plain": [
       "lesion_id         0\n",
       "image_id          0\n",
       "dx                0\n",
       "dx_type           0\n",
       "age              57\n",
       "sex               0\n",
       "localization      0\n",
       "mask_id           0\n",
       "mask_path         0\n",
       "path              0\n",
       "cell_type         0\n",
       "cell_type_idx     0\n",
       "dtype: int64"
      ]
     },
     "execution_count": 4,
     "metadata": {},
     "output_type": "execute_result"
    }
   ],
   "source": [
    "skin_df.isnull().sum()"
   ]
  },
  {
   "cell_type": "markdown",
   "id": "15ad189d-7121-4ac9-b0b9-1dbed7007e57",
   "metadata": {},
   "source": [
    "##### Filling missing values with the mean of age of patients"
   ]
  },
  {
   "cell_type": "code",
   "execution_count": 5,
   "id": "fcd02eaa-4498-4383-8ab1-7efc62b2689b",
   "metadata": {},
   "outputs": [
    {
     "name": "stderr",
     "output_type": "stream",
     "text": [
      "/tmp/ipykernel_3669329/2214850127.py:1: FutureWarning: A value is trying to be set on a copy of a DataFrame or Series through chained assignment using an inplace method.\n",
      "The behavior will change in pandas 3.0. This inplace method will never work because the intermediate object on which we are setting values always behaves as a copy.\n",
      "\n",
      "For example, when doing 'df[col].method(value, inplace=True)', try using 'df.method({col: value}, inplace=True)' or df[col] = df[col].method(value) instead, to perform the operation inplace on the original object.\n",
      "\n",
      "\n",
      "  skin_df['age'].fillna((skin_df['age'].mean().round(0)), inplace=True)\n"
     ]
    },
    {
     "data": {
      "text/plain": [
       "lesion_id        0\n",
       "image_id         0\n",
       "dx               0\n",
       "dx_type          0\n",
       "age              0\n",
       "sex              0\n",
       "localization     0\n",
       "mask_id          0\n",
       "mask_path        0\n",
       "path             0\n",
       "cell_type        0\n",
       "cell_type_idx    0\n",
       "dtype: int64"
      ]
     },
     "execution_count": 5,
     "metadata": {},
     "output_type": "execute_result"
    }
   ],
   "source": [
    "skin_df['age'].fillna((skin_df['age'].mean().round(0)), inplace=True)\n",
    "skin_df.isnull().sum()"
   ]
  },
  {
   "cell_type": "code",
   "execution_count": 6,
   "id": "9b81721d-1605-4e65-83c6-5143253f6fc7",
   "metadata": {},
   "outputs": [
    {
     "name": "stdout",
     "output_type": "stream",
     "text": [
      "lesion_id         object\n",
      "image_id          object\n",
      "dx                object\n",
      "dx_type           object\n",
      "age              float64\n",
      "sex               object\n",
      "localization      object\n",
      "mask_id           object\n",
      "mask_path         object\n",
      "path              object\n",
      "cell_type         object\n",
      "cell_type_idx       int8\n",
      "dtype: object\n"
     ]
    }
   ],
   "source": [
    "print(skin_df.dtypes)"
   ]
  },
  {
   "cell_type": "markdown",
   "id": "036a2f84-afd7-44af-9433-42a44b648958",
   "metadata": {},
   "source": [
    "### 2- Exploring and visualizing the distribution of different features"
   ]
  },
  {
   "cell_type": "code",
   "execution_count": 7,
   "id": "28ef4ae9-7b15-4cec-99cd-39b0c6127b61",
   "metadata": {},
   "outputs": [
    {
     "name": "stderr",
     "output_type": "stream",
     "text": [
      "/tmp/ipykernel_3669329/3490945391.py:2: UserWarning: set_ticklabels() should only be used with a fixed number of ticks, i.e. after set_ticks() or using a FixedLocator.\n",
      "  chart.set_xticklabels(chart.get_xticklabels(), rotation=80)\n"
     ]
    },
    {
     "data": {
      "text/plain": [
       "Text(0.5, 1.0, 'Distribution of cell types')"
      ]
     },
     "execution_count": 7,
     "metadata": {},
     "output_type": "execute_result"
    },
    {
     "data": {
      "image/png": "[encoded data removed]",
      "text/plain": [
       "<Figure size 640x480 with 1 Axes>"
      ]
     },
     "metadata": {},
     "output_type": "display_data"
    }
   ],
   "source": [
    "chart = sns.countplot(x='cell_type', data=skin_df)\n",
    "chart.set_xticklabels(chart.get_xticklabels(), rotation=80)\n",
    "chart.set_title('Distribution of cell types')"
   ]
  },
  {
   "cell_type": "markdown",
   "id": "861e996b-e917-48cf-bee8-fd12c654c9ff",
   "metadata": {},
   "source": [
    "##### According to the plot, Melanocytic nevi is the most common type of skin cancer."
   ]
  },
  {
   "cell_type": "markdown",
   "id": "d195f2b9-9ba4-47f8-ae18-a466db583dbf",
   "metadata": {},
   "source": [
    "##### In the above plot, the distribution of diagnosis techniques are illustrated. These techniques are as follows:\n",
    "1. Histopathology(Histo): Histopathologic diagnosis od lesions performed by specialized dermatopathologists.\n",
    "2. Follow-up: If nevi monitored by digital dermatoscopy did not show any changes during 3 follow-up visits or 1.5 years biologists accepted this as evidence of biologic benignity. Only nevi, but no other benign diagnoses were labeled with this type of ground-truth because dermatologists usually do not monitor dermatofibromas, seborrheic keratoses, or vascular lesions.\n",
    "3. Consensus: For typical benign cases without histopathology or followup biologists provide an expert-consensus rating of authors PT and HK. They applied the consensus label only if both authors independently gave the same unequivocal benign diagnosis. Lesions with this type of groundtruth were usually photographed for educational reasons and did not need further follow-up or biopsy for confirmation.\n",
    "4. Confocal: Reflectance confocal microscopy is an in-vivo imaging technique with a resolution at near-cellular level , and some facial benign with a grey-world assumption of all training-set images in Lab-color space before and after manual histogram changes."
   ]
  },
  {
   "cell_type": "code",
   "execution_count": 8,
   "id": "ebe8e02d-fb51-45bf-b70d-d3639075ddfd",
   "metadata": {},
   "outputs": [
    {
     "name": "stderr",
     "output_type": "stream",
     "text": [
      "/tmp/ipykernel_3669329/289870349.py:2: UserWarning: set_ticklabels() should only be used with a fixed number of ticks, i.e. after set_ticks() or using a FixedLocator.\n",
      "  chart.set_xticklabels(chart.get_xticklabels(), rotation=60)\n"
     ]
    },
    {
     "data": {
      "text/plain": [
       "Text(0.5, 1.0, 'Distribution of skin cancer regions')"
      ]
     },
     "execution_count": 8,
     "metadata": {},
     "output_type": "execute_result"
    },
    {
     "data": {
      "image/png": "[encoded data removed]",
      "text/plain": [
       "<Figure size 640x480 with 1 Axes>"
      ]
     },
     "metadata": {},
     "output_type": "display_data"
    }
   ],
   "source": [
    "chart = sns.countplot(x='localization', data=skin_df)\n",
    "chart.set_xticklabels(chart.get_xticklabels(), rotation=60)\n",
    "chart.set_title('Distribution of skin cancer regions')"
   ]
  },
  {
   "cell_type": "markdown",
   "id": "6b8359d4-1baa-4173-bf83-81df2d7a4bb2",
   "metadata": {},
   "source": [
    "##### As we can see, lower extremity and back regions are the most common skin cancer locations. "
   ]
  },
  {
   "cell_type": "code",
   "execution_count": 9,
   "id": "fa19c4d5-b28a-4e8b-b7ae-3b36577a6099",
   "metadata": {},
   "outputs": [
    {
     "data": {
      "text/plain": [
       "Text(0.5, 1.0, 'Distribution of age')"
      ]
     },
     "execution_count": 9,
     "metadata": {},
     "output_type": "execute_result"
    },
    {
     "data": {
      "image/png": "[encoded data removed]",
      "text/plain": [
       "<Figure size 640x480 with 1 Axes>"
      ]
     },
     "metadata": {},
     "output_type": "display_data"
    }
   ],
   "source": [
    "plot = skin_df['age'].hist(bins=40)\n",
    "plot.set_title('Distribution of age')"
   ]
  },
  {
   "cell_type": "markdown",
   "id": "4ca30610-59fe-4372-97a6-9b87e397442e",
   "metadata": {},
   "source": [
    "##### This plot shows that a large number of patients are between 30 to 60 years old."
   ]
  },
  {
   "cell_type": "code",
   "execution_count": 10,
   "id": "39497450-887e-4211-af12-b86a0ace4506",
   "metadata": {},
   "outputs": [
    {
     "data": {
      "text/plain": [
       "Text(0.5, 1.0, 'Distribution of sex')"
      ]
     },
     "execution_count": 10,
     "metadata": {},
     "output_type": "execute_result"
    },
    {
     "data": {
      "image/png": "[encoded data removed]",
      "text/plain": [
       "<Figure size 640x480 with 1 Axes>"
      ]
     },
     "metadata": {},
     "output_type": "display_data"
    }
   ],
   "source": [
    "sns.countplot(x='sex', data=skin_df).set_title('Distribution of sex')"
   ]
  },
  {
   "cell_type": "code",
   "execution_count": 11,
   "id": "2c5c9acf-ae3a-4a19-9c9c-a6fd1ede7976",
   "metadata": {},
   "outputs": [
    {
     "data": {
      "text/plain": [
       "Text(0.5, 1.0, 'Distribution of sex by cell types')"
      ]
     },
     "execution_count": 11,
     "metadata": {},
     "output_type": "execute_result"
    },
    {
     "data": {
      "image/png": "[encoded data removed]",
      "text/plain": [
       "<Figure size 640x480 with 1 Axes>"
      ]
     },
     "metadata": {},
     "output_type": "display_data"
    }
   ],
   "source": [
    "sns.countplot(x='sex', hue='cell_type', data=skin_df).set_title('Distribution of sex by cell types')"
   ]
  },
  {
   "cell_type": "markdown",
   "id": "cf0efacd-314e-49a2-8002-46c6ce673d6d",
   "metadata": {},
   "source": [
    "### 3- Creating datasets"
   ]
  },
  {
   "cell_type": "code",
   "execution_count": 12,
   "id": "24ff0b3e-7a87-44cd-9770-11dda2851334",
   "metadata": {},
   "outputs": [],
   "source": [
    "class SkinLesion_dataset(Dataset):\n",
    "    def __init__(self, df, transform=None):\n",
    "        \n",
    "        self.df = df\n",
    "        self.transform = transform\n",
    "\n",
    "    def __len__(self):\n",
    "        return len(self.df)\n",
    "\n",
    "    def __getitem__(self, index):\n",
    "        image = np.array(Image.open(self.df['path'][index]))\n",
    "        label = torch.tensor(int(self.df['cell_type_idx'][index]))\n",
    "        mask = np.array(Image.open(self.df['mask_path'][index]).convert(\"L\"), dtype=np.float32)\n",
    "        mask[mask == 255.0] = 1.0\n",
    "\n",
    "        if self.transform is not None:\n",
    "            augmentations = self.transform(image=image, mask=mask)\n",
    "            image = augmentations[\"image\"]\n",
    "            mask = augmentations[\"mask\"]\n",
    "           \n",
    "\n",
    "        return image, mask, label"
   ]
  },
  {
   "cell_type": "markdown",
   "id": "860e285e-8e8c-4c44-8fa3-eff8ceb5e364",
   "metadata": {},
   "source": [
    "### 4- Splitting the data"
   ]
  },
  {
   "cell_type": "code",
   "execution_count": 13,
   "id": "c7c41549-2c5c-4b19-a457-8e4def5070e7",
   "metadata": {},
   "outputs": [
    {
     "name": "stdout",
     "output_type": "stream",
     "text": [
      "Train data: (8012, 12)\n",
      "Validation data: (2003, 12)\n"
     ]
    }
   ],
   "source": [
    "train_df, val_df = train_test_split(skin_df, test_size=0.2, random_state=42)\n",
    "print(\"Train data:\", train_df.shape)\n",
    "print(\"Validation data:\", val_df.shape)"
   ]
  },
  {
   "cell_type": "code",
   "execution_count": 14,
   "id": "1879631c-c615-4f68-b8f0-ecc4d09f9b78",
   "metadata": {},
   "outputs": [],
   "source": [
    "train_df = train_df.reset_index()\n",
    "val_df = val_df.reset_index()"
   ]
  },
  {
   "cell_type": "markdown",
   "id": "e484b891-9286-433d-82f7-4b1b16c53f41",
   "metadata": {},
   "source": [
    "### 5- Creating Dataloaders"
   ]
  },
  {
   "cell_type": "code",
   "execution_count": 15,
   "id": "2a89be53-3ac8-45ce-a8b3-38d4b28d0241",
   "metadata": {},
   "outputs": [],
   "source": [
    "Image_height = 224\n",
    "Image_width = 224\n",
    "\n",
    "train_transform = A.Compose([\n",
    "    A.Resize(height=Image_height, width=Image_width),\n",
    "    A.Rotate(limit=35, p=1.0),\n",
    "    A.HorizontalFlip(p=0.5),\n",
    "    A.VerticalFlip(p=0.1),\n",
    "    A.Normalize(mean=[0.0, 0.0, 0.0], std=[1.0, 1.0, 1.0], max_pixel_value=255.0),\n",
    "    ToTensorV2()\n",
    "])\n",
    "    \n",
    "\n",
    "val_transform = A.Compose([\n",
    "    A.Resize(height=Image_height, width=Image_width),\n",
    "    A.Normalize(mean=[0.0, 0.0, 0.0], std=[1.0, 1.0, 1.0], max_pixel_value=255.0),\n",
    "    ToTensorV2()\n",
    "])"
   ]
  },
  {
   "cell_type": "code",
   "execution_count": 16,
   "id": "764ad3ff-2427-45d6-8a43-e9aa847b75c3",
   "metadata": {},
   "outputs": [],
   "source": [
    "batch_size = 32\n",
    "\n",
    "train_dataset = SkinLesion_dataset(df=train_df, transform=train_transform) \n",
    "train_loader = DataLoader(train_dataset, batch_size=batch_size, num_workers=1, shuffle=True)\n",
    "\n",
    "val_dataset = SkinLesion_dataset(df=val_df, transform=val_transform) \n",
    "val_loader = DataLoader(val_dataset, batch_size=batch_size, num_workers=1, shuffle=False)"
   ]
  },
  {
   "cell_type": "markdown",
   "id": "b4ae88e7-4547-4705-94af-239f7057a90c",
   "metadata": {},
   "source": [
    "### 5- U-Net model"
   ]
  },
  {
   "cell_type": "code",
   "execution_count": 17,
   "id": "c15a4486-fe34-470a-b317-079c1c44c620",
   "metadata": {},
   "outputs": [],
   "source": [
    "# U-Net implementation\n",
    "\n",
    "class Conv_block(nn.Module):\n",
    "    def __init__(self, in_channels, out_channels):\n",
    "        super().__init__()\n",
    "    \n",
    "        self.conv_block = nn.Sequential(\n",
    "            nn.Conv2d(in_channels, out_channels, kernel_size=3, stride=1, padding=1, bias=False), #bias=False as we are going to use batch normalization\n",
    "                                                                                                  #first few iterations will go on to cancel this bias and slow down the training.\n",
    "            nn.BatchNorm2d(out_channels),\n",
    "            nn.ReLU(inplace=True),\n",
    "    \n",
    "            nn.Conv2d(out_channels, out_channels, kernel_size=3, stride=1, padding=1, bias=False),\n",
    "            nn.BatchNorm2d(out_channels),\n",
    "    \n",
    "            nn.ReLU(inplace=True)\n",
    "        )\n",
    "\n",
    "    def forward(self, x):\n",
    "        return self.conv_block(x)\n",
    "\n",
    "\n",
    "class Encoder_block(nn.Module):\n",
    "    def __init__(self, in_channels, out_channels):\n",
    "        super().__init__()\n",
    "        \n",
    "        self.conv = Conv_block(in_channels, out_channels)\n",
    "        self.pool = nn.MaxPool2d(kernel_size=2, stride=2)\n",
    "\n",
    "    def forward(self, x):\n",
    "        x = self.conv(x)\n",
    "        p = self.pool(x)\n",
    "        return x, p\n",
    "\n",
    "class Decoder_block(nn.Module):\n",
    "    def __init__(self, in_channels, out_channels):\n",
    "        super().__init__()\n",
    "\n",
    "        self.up = nn.ConvTranspose2d(in_channels, out_channels, kernel_size=2, stride=2)\n",
    "        self.conv = Conv_block(out_channels+out_channels, out_channels)\n",
    "\n",
    "    def forward(self, x, skip):\n",
    "        x = self.up(x)\n",
    "        x = torch.cat([x, skip], axis=1)\n",
    "        x = self.conv(x)\n",
    "        return x\n",
    "\n",
    "class UNet(nn.Module):\n",
    "    def __init__(self):\n",
    "        super().__init__()\n",
    "\n",
    "        # Encoder part\n",
    "        self.e1 = Encoder_block(3, 64)\n",
    "        self.e2 = Encoder_block(64, 128)\n",
    "        self.e3 = Encoder_block(128, 256)\n",
    "        self.e4 = Encoder_block(256, 512)\n",
    "\n",
    "        # Bottleneck block\n",
    "        self.bottleneck = Conv_block(512, 1024)\n",
    "\n",
    "        # Decoder part\n",
    "        self.d1 = Decoder_block(1024, 512)\n",
    "        self.d2 = Decoder_block(512, 256)\n",
    "        self.d3 = Decoder_block(256, 128)\n",
    "        self.d4 = Decoder_block(128, 64)\n",
    "\n",
    "        # Classifier\n",
    "        self.output = nn.Conv2d(64, 1, kernel_size=1, padding=0)\n",
    "\n",
    "    def forward(self, x):\n",
    "        s1, p1 = self.e1(x)\n",
    "        s2, p2 = self.e2(p1)\n",
    "        s3, p3 = self.e3(p2)\n",
    "        s4, p4 = self.e4(p3)\n",
    "\n",
    "        bottle_neck = self.bottleneck(p4)\n",
    "\n",
    "        d1 = self.d1(bottle_neck, s4)\n",
    "        d2 = self.d2(d1, s3)\n",
    "        d3 = self.d3(d2, s2)\n",
    "        d4 = self.d4(d3, s1)\n",
    "\n",
    "        output = self.output(d4)\n",
    "        \n",
    "        return output\n",
    "\n",
    "        \n",
    "# Check to see if it is working    \n",
    "# if __name__ == \"__main__\":\n",
    "#     inputs = torch.randn((2, 3, 224, 224))\n",
    "\n",
    "#     model = UNet()\n",
    "#     y = model(inputs)\n",
    "#     print(y.shape)"
   ]
  },
  {
   "cell_type": "markdown",
   "id": "23086c87-3c12-4a58-a14b-5a62d5835f79",
   "metadata": {},
   "source": [
    "### 6- Model training"
   ]
  },
  {
   "cell_type": "code",
   "execution_count": 18,
   "id": "9f6cacdd-94a6-4aa4-8263-a676928ac43a",
   "metadata": {},
   "outputs": [],
   "source": [
    "def train_fn(model, loader, criterion, optimizer, scaler):\n",
    "    loop = tqdm(loader) # to provide progress bar\n",
    "\n",
    "    for batch_idx, (data, masks, labels) in enumerate(loop):\n",
    "        data = data.to(device)\n",
    "        masks = masks.float().unsqueeze(1).to(device)\n",
    "\n",
    "        # forward\n",
    "        with torch.cuda.amp.autocast():\n",
    "            predictions = model(data)\n",
    "            loss = criterion(predictions, masks)\n",
    "\n",
    "        # backward\n",
    "        optimizer.zero_grad()\n",
    "        scaler.scale(loss).backward()\n",
    "        scaler.step(optimizer)\n",
    "        scaler.update()\n",
    "\n",
    "        # update tqdm loop\n",
    "        loop.set_postfix(loss=loss.item()) # to add loss values to the bar"
   ]
  },
  {
   "cell_type": "code",
   "execution_count": 19,
   "id": "e8a4fccd-bbd4-4da1-8313-31b9c8ec7363",
   "metadata": {},
   "outputs": [],
   "source": [
    "def save_checkpoint(state, filename=\"my_checkpoint.pth.tar\"):\n",
    "    print(\"=> Saving checkpoint\")\n",
    "    torch.save(state, filename)\n",
    "\n",
    "def load_checkpoint(checkpoint, model):\n",
    "    print(\"=> Loading checkpoint\")\n",
    "    model.load_state_dict(checkpoint[\"state_dict\"])\n",
    "\n",
    "def check_accuracy(loader, model):\n",
    "    num_corrects = 0\n",
    "    num_pixels = 0\n",
    "    dice_score = 0\n",
    "    model.eval()\n",
    "    \n",
    "    with torch.no_grad():\n",
    "        for data, masks, labels in loader:\n",
    "            data = data.to(device)\n",
    "            masks = masks.to(device).unsqueeze(1) # label doesn't have channel as it is gray scale\n",
    "            \n",
    "            preds = torch.sigmoid(model(data))\n",
    "            preds = (preds > 0.5).float()\n",
    "            \n",
    "            num_corrects += (preds == masks).sum()\n",
    "            num_pixels += torch.numel(preds)\n",
    "    \n",
    "            dice_score += (2 * (preds * masks).sum()) / ((preds + masks).sum() + 1e-8)\n",
    "    \n",
    "    print(f\"Got {num_corrects}/{num_pixels} with acc {num_corrects/num_pixels*100:.2f}\")\n",
    "    print(f\"Dice score: {dice_score/len(loader)}\")\n",
    "    model.train()\n",
    "\n",
    "def save_predictions_as_imgs(loader, model, folder=\"skin_cancer/Final_project/segmented_images/\"):\n",
    "    model.eval()\n",
    "    for idx, (x, y, z) in enumerate(loader):\n",
    "        x = x.to(device)\n",
    "        with torch.no_grad():\n",
    "            preds = torch.sigmoid(model(x))\n",
    "            preds = (preds > 0.5).float()\n",
    "            \n",
    "        torchvision.utils.save_image(preds, f\"{folder}/ISIC_{idx}_segmentation.png\")\n",
    "        torchvision.utils.save_image(y.unsqueeze(1), f\"{folder}{idx}.png\")\n",
    "\n",
    "    model.train()"
   ]
  },
  {
   "cell_type": "code",
   "execution_count": 20,
   "id": "11548adc-0d7a-400c-8c32-72a298e39a96",
   "metadata": {},
   "outputs": [
    {
     "name": "stderr",
     "output_type": "stream",
     "text": [
      "100%|█████████████████████████████████████████████████████████████████████████████████████████████████████████████████████████████████████████████| 251/251 [04:12<00:00,  1.01s/it, loss=0.205]\n"
     ]
    },
    {
     "name": "stdout",
     "output_type": "stream",
     "text": [
      "=> Saving checkpoint\n",
      "Got 93852296/100502528 with acc 93.38\n",
      "Dice score: 0.8779394030570984\n"
     ]
    },
    {
     "name": "stderr",
     "output_type": "stream",
     "text": [
      "100%|█████████████████████████████████████████████████████████████████████████████████████████████████████████████████████████████████████████████| 251/251 [04:12<00:00,  1.00s/it, loss=0.134]\n"
     ]
    },
    {
     "name": "stdout",
     "output_type": "stream",
     "text": [
      "=> Saving checkpoint\n",
      "Got 94472122/100502528 with acc 94.00\n",
      "Dice score: 0.8943231105804443\n"
     ]
    },
    {
     "name": "stderr",
     "output_type": "stream",
     "text": [
      "100%|█████████████████████████████████████████████████████████████████████████████████████████████████████████████████████████████████████████████| 251/251 [04:12<00:00,  1.01s/it, loss=0.132]\n"
     ]
    },
    {
     "name": "stdout",
     "output_type": "stream",
     "text": [
      "=> Saving checkpoint\n",
      "Got 95632969/100502528 with acc 95.15\n",
      "Dice score: 0.9118542075157166\n"
     ]
    },
    {
     "name": "stderr",
     "output_type": "stream",
     "text": [
      "100%|████████████████████████████████████████████████████████████████████████████████████████████████████████████████████████████████████████████| 251/251 [04:13<00:00,  1.01s/it, loss=0.0768]\n"
     ]
    },
    {
     "name": "stdout",
     "output_type": "stream",
     "text": [
      "=> Saving checkpoint\n",
      "Got 96259122/100502528 with acc 95.78\n",
      "Dice score: 0.9206624627113342\n"
     ]
    },
    {
     "name": "stderr",
     "output_type": "stream",
     "text": [
      "100%|████████████████████████████████████████████████████████████████████████████████████████████████████████████████████████████████████████████| 251/251 [04:13<00:00,  1.01s/it, loss=0.0968]\n"
     ]
    },
    {
     "name": "stdout",
     "output_type": "stream",
     "text": [
      "=> Saving checkpoint\n",
      "Got 96352703/100502528 with acc 95.87\n",
      "Dice score: 0.9213415384292603\n"
     ]
    },
    {
     "name": "stderr",
     "output_type": "stream",
     "text": [
      "100%|█████████████████████████████████████████████████████████████████████████████████████████████████████████████████████████████████████████████| 251/251 [04:11<00:00,  1.00s/it, loss=0.108]\n"
     ]
    },
    {
     "name": "stdout",
     "output_type": "stream",
     "text": [
      "=> Saving checkpoint\n",
      "Got 96054482/100502528 with acc 95.57\n",
      "Dice score: 0.918497622013092\n"
     ]
    },
    {
     "name": "stderr",
     "output_type": "stream",
     "text": [
      "100%|█████████████████████████████████████████████████████████████████████████████████████████████████████████████████████████████████████████████| 251/251 [04:12<00:00,  1.00s/it, loss=0.219]\n"
     ]
    },
    {
     "name": "stdout",
     "output_type": "stream",
     "text": [
      "=> Saving checkpoint\n",
      "Got 96373719/100502528 with acc 95.89\n",
      "Dice score: 0.9219582080841064\n"
     ]
    },
    {
     "name": "stderr",
     "output_type": "stream",
     "text": [
      "100%|█████████████████████████████████████████████████████████████████████████████████████████████████████████████████████████████████████████████| 251/251 [04:12<00:00,  1.00s/it, loss=0.102]\n"
     ]
    },
    {
     "name": "stdout",
     "output_type": "stream",
     "text": [
      "=> Saving checkpoint\n",
      "Got 96454199/100502528 with acc 95.97\n",
      "Dice score: 0.9245338439941406\n"
     ]
    },
    {
     "name": "stderr",
     "output_type": "stream",
     "text": [
      "100%|████████████████████████████████████████████████████████████████████████████████████████████████████████████████████████████████████████████| 251/251 [04:12<00:00,  1.01s/it, loss=0.0718]\n"
     ]
    },
    {
     "name": "stdout",
     "output_type": "stream",
     "text": [
      "=> Saving checkpoint\n",
      "Got 96452289/100502528 with acc 95.97\n",
      "Dice score: 0.9240015149116516\n"
     ]
    },
    {
     "name": "stderr",
     "output_type": "stream",
     "text": [
      "100%|████████████████████████████████████████████████████████████████████████████████████████████████████████████████████████████████████████████| 251/251 [04:12<00:00,  1.01s/it, loss=0.0756]\n"
     ]
    },
    {
     "name": "stdout",
     "output_type": "stream",
     "text": [
      "=> Saving checkpoint\n",
      "Got 96525274/100502528 with acc 96.04\n",
      "Dice score: 0.9253815412521362\n"
     ]
    },
    {
     "name": "stderr",
     "output_type": "stream",
     "text": [
      "100%|█████████████████████████████████████████████████████████████████████████████████████████████████████████████████████████████████████████████| 251/251 [04:12<00:00,  1.00s/it, loss=0.112]\n"
     ]
    },
    {
     "name": "stdout",
     "output_type": "stream",
     "text": [
      "=> Saving checkpoint\n",
      "Got 96774973/100502528 with acc 96.29\n",
      "Dice score: 0.9304909706115723\n"
     ]
    },
    {
     "name": "stderr",
     "output_type": "stream",
     "text": [
      "100%|█████████████████████████████████████████████████████████████████████████████████████████████████████████████████████████████████████████████| 251/251 [04:12<00:00,  1.01s/it, loss=0.133]\n"
     ]
    },
    {
     "name": "stdout",
     "output_type": "stream",
     "text": [
      "=> Saving checkpoint\n",
      "Got 96588503/100502528 with acc 96.11\n",
      "Dice score: 0.9272580146789551\n"
     ]
    },
    {
     "name": "stderr",
     "output_type": "stream",
     "text": [
      "100%|█████████████████████████████████████████████████████████████████████████████████████████████████████████████████████████████████████████████| 251/251 [04:13<00:00,  1.01s/it, loss=0.239]\n"
     ]
    },
    {
     "name": "stdout",
     "output_type": "stream",
     "text": [
      "=> Saving checkpoint\n",
      "Got 96733469/100502528 with acc 96.25\n",
      "Dice score: 0.9302515983581543\n"
     ]
    },
    {
     "name": "stderr",
     "output_type": "stream",
     "text": [
      "100%|█████████████████████████████████████████████████████████████████████████████████████████████████████████████████████████████████████████████| 251/251 [04:13<00:00,  1.01s/it, loss=0.106]\n"
     ]
    },
    {
     "name": "stdout",
     "output_type": "stream",
     "text": [
      "=> Saving checkpoint\n",
      "Got 96744011/100502528 with acc 96.26\n",
      "Dice score: 0.9308804869651794\n"
     ]
    },
    {
     "name": "stderr",
     "output_type": "stream",
     "text": [
      "100%|█████████████████████████████████████████████████████████████████████████████████████████████████████████████████████████████████████████████| 251/251 [04:12<00:00,  1.01s/it, loss=0.107]\n"
     ]
    },
    {
     "name": "stdout",
     "output_type": "stream",
     "text": [
      "=> Saving checkpoint\n",
      "Got 96582423/100502528 with acc 96.10\n",
      "Dice score: 0.9275187253952026\n"
     ]
    },
    {
     "name": "stderr",
     "output_type": "stream",
     "text": [
      "100%|████████████████████████████████████████████████████████████████████████████████████████████████████████████████████████████████████████████| 251/251 [04:17<00:00,  1.03s/it, loss=0.0521]\n"
     ]
    },
    {
     "name": "stdout",
     "output_type": "stream",
     "text": [
      "=> Saving checkpoint\n",
      "Got 96774338/100502528 with acc 96.29\n",
      "Dice score: 0.9290149211883545\n"
     ]
    },
    {
     "name": "stderr",
     "output_type": "stream",
     "text": [
      "100%|█████████████████████████████████████████████████████████████████████████████████████████████████████████████████████████████████████████████| 251/251 [04:12<00:00,  1.01s/it, loss=0.112]\n"
     ]
    },
    {
     "name": "stdout",
     "output_type": "stream",
     "text": [
      "=> Saving checkpoint\n",
      "Got 96682920/100502528 with acc 96.20\n",
      "Dice score: 0.9301038980484009\n"
     ]
    },
    {
     "name": "stderr",
     "output_type": "stream",
     "text": [
      "100%|█████████████████████████████████████████████████████████████████████████████████████████████████████████████████████████████████████████████| 251/251 [04:13<00:00,  1.01s/it, loss=0.106]\n"
     ]
    },
    {
     "name": "stdout",
     "output_type": "stream",
     "text": [
      "=> Saving checkpoint\n",
      "Got 96821821/100502528 with acc 96.34\n",
      "Dice score: 0.9319216012954712\n"
     ]
    },
    {
     "name": "stderr",
     "output_type": "stream",
     "text": [
      "100%|██████████████████████████████████████████████████████████████████████████████████████████████████████████████████████████████████████████████| 251/251 [04:14<00:00,  1.01s/it, loss=0.16]\n"
     ]
    },
    {
     "name": "stdout",
     "output_type": "stream",
     "text": [
      "=> Saving checkpoint\n",
      "Got 96853927/100502528 with acc 96.37\n",
      "Dice score: 0.9323551058769226\n"
     ]
    },
    {
     "name": "stderr",
     "output_type": "stream",
     "text": [
      "100%|█████████████████████████████████████████████████████████████████████████████████████████████████████████████████████████████████████████████| 251/251 [04:13<00:00,  1.01s/it, loss=0.056]\n"
     ]
    },
    {
     "name": "stdout",
     "output_type": "stream",
     "text": [
      "=> Saving checkpoint\n",
      "Got 96943223/100502528 with acc 96.46\n",
      "Dice score: 0.9332507252693176\n"
     ]
    },
    {
     "name": "stderr",
     "output_type": "stream",
     "text": [
      "100%|████████████████████████████████████████████████████████████████████████████████████████████████████████████████████████████████████████████| 251/251 [04:13<00:00,  1.01s/it, loss=0.0914]\n"
     ]
    },
    {
     "name": "stdout",
     "output_type": "stream",
     "text": [
      "=> Saving checkpoint\n",
      "Got 96913428/100502528 with acc 96.43\n",
      "Dice score: 0.933502733707428\n"
     ]
    },
    {
     "name": "stderr",
     "output_type": "stream",
     "text": [
      "100%|█████████████████████████████████████████████████████████████████████████████████████████████████████████████████████████████████████████████| 251/251 [04:13<00:00,  1.01s/it, loss=0.075]\n"
     ]
    },
    {
     "name": "stdout",
     "output_type": "stream",
     "text": [
      "=> Saving checkpoint\n",
      "Got 96850844/100502528 with acc 96.37\n",
      "Dice score: 0.9323247671127319\n"
     ]
    },
    {
     "name": "stderr",
     "output_type": "stream",
     "text": [
      "100%|████████████████████████████████████████████████████████████████████████████████████████████████████████████████████████████████████████████| 251/251 [04:12<00:00,  1.01s/it, loss=0.0712]\n"
     ]
    },
    {
     "name": "stdout",
     "output_type": "stream",
     "text": [
      "=> Saving checkpoint\n",
      "Got 96944074/100502528 with acc 96.46\n",
      "Dice score: 0.9330337047576904\n"
     ]
    },
    {
     "name": "stderr",
     "output_type": "stream",
     "text": [
      "100%|█████████████████████████████████████████████████████████████████████████████████████████████████████████████████████████████████████████████| 251/251 [04:13<00:00,  1.01s/it, loss=0.135]\n"
     ]
    },
    {
     "name": "stdout",
     "output_type": "stream",
     "text": [
      "=> Saving checkpoint\n",
      "Got 96872678/100502528 with acc 96.39\n",
      "Dice score: 0.9329999685287476\n"
     ]
    },
    {
     "name": "stderr",
     "output_type": "stream",
     "text": [
      "100%|████████████████████████████████████████████████████████████████████████████████████████████████████████████████████████████████████████████| 251/251 [04:12<00:00,  1.01s/it, loss=0.0627]\n"
     ]
    },
    {
     "name": "stdout",
     "output_type": "stream",
     "text": [
      "=> Saving checkpoint\n",
      "Got 96542011/100502528 with acc 96.06\n",
      "Dice score: 0.926764190196991\n"
     ]
    },
    {
     "name": "stderr",
     "output_type": "stream",
     "text": [
      "100%|██████████████████████████████████████████████████████████████████████████████████████████████████████████████████████████████████████████████| 251/251 [04:12<00:00,  1.01s/it, loss=0.12]\n"
     ]
    },
    {
     "name": "stdout",
     "output_type": "stream",
     "text": [
      "=> Saving checkpoint\n",
      "Got 97031624/100502528 with acc 96.55\n",
      "Dice score: 0.9348448514938354\n"
     ]
    },
    {
     "name": "stderr",
     "output_type": "stream",
     "text": [
      "100%|█████████████████████████████████████████████████████████████████████████████████████████████████████████████████████████████████████████████| 251/251 [04:13<00:00,  1.01s/it, loss=0.101]\n"
     ]
    },
    {
     "name": "stdout",
     "output_type": "stream",
     "text": [
      "=> Saving checkpoint\n",
      "Got 97038844/100502528 with acc 96.55\n",
      "Dice score: 0.9354384541511536\n"
     ]
    },
    {
     "name": "stderr",
     "output_type": "stream",
     "text": [
      "100%|████████████████████████████████████████████████████████████████████████████████████████████████████████████████████████████████████████████| 251/251 [04:12<00:00,  1.01s/it, loss=0.0656]\n"
     ]
    },
    {
     "name": "stdout",
     "output_type": "stream",
     "text": [
      "=> Saving checkpoint\n",
      "Got 97034119/100502528 with acc 96.55\n",
      "Dice score: 0.9355525970458984\n"
     ]
    },
    {
     "name": "stderr",
     "output_type": "stream",
     "text": [
      "100%|████████████████████████████████████████████████████████████████████████████████████████████████████████████████████████████████████████████| 251/251 [04:12<00:00,  1.01s/it, loss=0.0771]\n"
     ]
    },
    {
     "name": "stdout",
     "output_type": "stream",
     "text": [
      "=> Saving checkpoint\n",
      "Got 97059108/100502528 with acc 96.57\n",
      "Dice score: 0.9355050921440125\n"
     ]
    },
    {
     "name": "stderr",
     "output_type": "stream",
     "text": [
      "100%|█████████████████████████████████████████████████████████████████████████████████████████████████████████████████████████████████████████████| 251/251 [04:12<00:00,  1.01s/it, loss=0.108]\n"
     ]
    },
    {
     "name": "stdout",
     "output_type": "stream",
     "text": [
      "=> Saving checkpoint\n",
      "Got 97044732/100502528 with acc 96.56\n",
      "Dice score: 0.9359189867973328\n"
     ]
    },
    {
     "name": "stderr",
     "output_type": "stream",
     "text": [
      "100%|████████████████████████████████████████████████████████████████████████████████████████████████████████████████████████████████████████████| 251/251 [04:12<00:00,  1.01s/it, loss=0.0838]\n"
     ]
    },
    {
     "name": "stdout",
     "output_type": "stream",
     "text": [
      "=> Saving checkpoint\n",
      "Got 97001772/100502528 with acc 96.52\n",
      "Dice score: 0.9350548982620239\n"
     ]
    },
    {
     "name": "stderr",
     "output_type": "stream",
     "text": [
      "100%|█████████████████████████████████████████████████████████████████████████████████████████████████████████████████████████████████████████████| 251/251 [04:13<00:00,  1.01s/it, loss=0.121]\n"
     ]
    },
    {
     "name": "stdout",
     "output_type": "stream",
     "text": [
      "=> Saving checkpoint\n",
      "Got 96939259/100502528 with acc 96.45\n",
      "Dice score: 0.9338657855987549\n"
     ]
    },
    {
     "name": "stderr",
     "output_type": "stream",
     "text": [
      "100%|████████████████████████████████████████████████████████████████████████████████████████████████████████████████████████████████████████████| 251/251 [04:12<00:00,  1.01s/it, loss=0.0696]\n"
     ]
    },
    {
     "name": "stdout",
     "output_type": "stream",
     "text": [
      "=> Saving checkpoint\n",
      "Got 97120470/100502528 with acc 96.63\n",
      "Dice score: 0.9368396997451782\n"
     ]
    },
    {
     "name": "stderr",
     "output_type": "stream",
     "text": [
      "100%|█████████████████████████████████████████████████████████████████████████████████████████████████████████████████████████████████████████████| 251/251 [04:13<00:00,  1.01s/it, loss=0.104]\n"
     ]
    },
    {
     "name": "stdout",
     "output_type": "stream",
     "text": [
      "=> Saving checkpoint\n",
      "Got 97242551/100502528 with acc 96.76\n",
      "Dice score: 0.9389041066169739\n"
     ]
    },
    {
     "name": "stderr",
     "output_type": "stream",
     "text": [
      "100%|████████████████████████████████████████████████████████████████████████████████████████████████████████████████████████████████████████████| 251/251 [04:12<00:00,  1.01s/it, loss=0.0988]\n"
     ]
    },
    {
     "name": "stdout",
     "output_type": "stream",
     "text": [
      "=> Saving checkpoint\n",
      "Got 97209413/100502528 with acc 96.72\n",
      "Dice score: 0.9384602904319763\n"
     ]
    },
    {
     "name": "stderr",
     "output_type": "stream",
     "text": [
      "100%|████████████████████████████████████████████████████████████████████████████████████████████████████████████████████████████████████████████| 251/251 [04:13<00:00,  1.01s/it, loss=0.0927]\n"
     ]
    },
    {
     "name": "stdout",
     "output_type": "stream",
     "text": [
      "=> Saving checkpoint\n",
      "Got 97166363/100502528 with acc 96.68\n",
      "Dice score: 0.9373031258583069\n"
     ]
    },
    {
     "name": "stderr",
     "output_type": "stream",
     "text": [
      "100%|████████████████████████████████████████████████████████████████████████████████████████████████████████████████████████████████████████████| 251/251 [04:13<00:00,  1.01s/it, loss=0.0648]\n"
     ]
    },
    {
     "name": "stdout",
     "output_type": "stream",
     "text": [
      "=> Saving checkpoint\n",
      "Got 96664276/100502528 with acc 96.18\n",
      "Dice score: 0.9277188777923584\n"
     ]
    },
    {
     "name": "stderr",
     "output_type": "stream",
     "text": [
      "100%|█████████████████████████████████████████████████████████████████████████████████████████████████████████████████████████████████████████████| 251/251 [04:18<00:00,  1.03s/it, loss=0.195]\n"
     ]
    },
    {
     "name": "stdout",
     "output_type": "stream",
     "text": [
      "=> Saving checkpoint\n",
      "Got 97148342/100502528 with acc 96.66\n",
      "Dice score: 0.9376257658004761\n"
     ]
    },
    {
     "name": "stderr",
     "output_type": "stream",
     "text": [
      "100%|████████████████████████████████████████████████████████████████████████████████████████████████████████████████████████████████████████████| 251/251 [04:19<00:00,  1.03s/it, loss=0.0881]\n"
     ]
    },
    {
     "name": "stdout",
     "output_type": "stream",
     "text": [
      "=> Saving checkpoint\n",
      "Got 97219138/100502528 with acc 96.73\n",
      "Dice score: 0.9393852949142456\n"
     ]
    },
    {
     "name": "stderr",
     "output_type": "stream",
     "text": [
      "100%|████████████████████████████████████████████████████████████████████████████████████████████████████████████████████████████████████████████| 251/251 [04:19<00:00,  1.03s/it, loss=0.0659]\n"
     ]
    },
    {
     "name": "stdout",
     "output_type": "stream",
     "text": [
      "=> Saving checkpoint\n",
      "Got 97117980/100502528 with acc 96.63\n",
      "Dice score: 0.9371389746665955\n"
     ]
    },
    {
     "name": "stderr",
     "output_type": "stream",
     "text": [
      "100%|████████████████████████████████████████████████████████████████████████████████████████████████████████████████████████████████████████████| 251/251 [04:18<00:00,  1.03s/it, loss=0.0405]\n"
     ]
    },
    {
     "name": "stdout",
     "output_type": "stream",
     "text": [
      "=> Saving checkpoint\n",
      "Got 97134523/100502528 with acc 96.65\n",
      "Dice score: 0.937419593334198\n"
     ]
    },
    {
     "name": "stderr",
     "output_type": "stream",
     "text": [
      "100%|████████████████████████████████████████████████████████████████████████████████████████████████████████████████████████████████████████████| 251/251 [04:18<00:00,  1.03s/it, loss=0.0582]\n"
     ]
    },
    {
     "name": "stdout",
     "output_type": "stream",
     "text": [
      "=> Saving checkpoint\n",
      "Got 96933629/100502528 with acc 96.45\n",
      "Dice score: 0.9327870607376099\n"
     ]
    },
    {
     "name": "stderr",
     "output_type": "stream",
     "text": [
      "100%|████████████████████████████████████████████████████████████████████████████████████████████████████████████████████████████████████████████| 251/251 [04:20<00:00,  1.04s/it, loss=0.0575]\n"
     ]
    },
    {
     "name": "stdout",
     "output_type": "stream",
     "text": [
      "=> Saving checkpoint\n",
      "Got 97130855/100502528 with acc 96.65\n",
      "Dice score: 0.9373189210891724\n"
     ]
    },
    {
     "name": "stderr",
     "output_type": "stream",
     "text": [
      "100%|████████████████████████████████████████████████████████████████████████████████████████████████████████████████████████████████████████████| 251/251 [04:20<00:00,  1.04s/it, loss=0.0518]\n"
     ]
    },
    {
     "name": "stdout",
     "output_type": "stream",
     "text": [
      "=> Saving checkpoint\n",
      "Got 97081593/100502528 with acc 96.60\n",
      "Dice score: 0.9365075826644897\n"
     ]
    },
    {
     "name": "stderr",
     "output_type": "stream",
     "text": [
      "100%|████████████████████████████████████████████████████████████████████████████████████████████████████████████████████████████████████████████| 251/251 [04:18<00:00,  1.03s/it, loss=0.0652]\n"
     ]
    },
    {
     "name": "stdout",
     "output_type": "stream",
     "text": [
      "=> Saving checkpoint\n",
      "Got 97197272/100502528 with acc 96.71\n",
      "Dice score: 0.9376082420349121\n"
     ]
    },
    {
     "name": "stderr",
     "output_type": "stream",
     "text": [
      "100%|████████████████████████████████████████████████████████████████████████████████████████████████████████████████████████████████████████████| 251/251 [04:18<00:00,  1.03s/it, loss=0.0371]\n"
     ]
    },
    {
     "name": "stdout",
     "output_type": "stream",
     "text": [
      "=> Saving checkpoint\n",
      "Got 97228667/100502528 with acc 96.74\n",
      "Dice score: 0.9389957189559937\n"
     ]
    },
    {
     "name": "stderr",
     "output_type": "stream",
     "text": [
      "100%|████████████████████████████████████████████████████████████████████████████████████████████████████████████████████████████████████████████| 251/251 [04:18<00:00,  1.03s/it, loss=0.0714]\n"
     ]
    },
    {
     "name": "stdout",
     "output_type": "stream",
     "text": [
      "=> Saving checkpoint\n",
      "Got 97214861/100502528 with acc 96.73\n",
      "Dice score: 0.9394228458404541\n"
     ]
    },
    {
     "name": "stderr",
     "output_type": "stream",
     "text": [
      "100%|████████████████████████████████████████████████████████████████████████████████████████████████████████████████████████████████████████████| 251/251 [04:18<00:00,  1.03s/it, loss=0.0863]\n"
     ]
    },
    {
     "name": "stdout",
     "output_type": "stream",
     "text": [
      "=> Saving checkpoint\n",
      "Got 97190088/100502528 with acc 96.70\n",
      "Dice score: 0.9392251372337341\n"
     ]
    },
    {
     "name": "stderr",
     "output_type": "stream",
     "text": [
      "100%|█████████████████████████████████████████████████████████████████████████████████████████████████████████████████████████████████████████████| 251/251 [04:18<00:00,  1.03s/it, loss=0.216]\n"
     ]
    },
    {
     "name": "stdout",
     "output_type": "stream",
     "text": [
      "=> Saving checkpoint\n",
      "Got 97257147/100502528 with acc 96.77\n",
      "Dice score: 0.9394383430480957\n"
     ]
    },
    {
     "name": "stderr",
     "output_type": "stream",
     "text": [
      "100%|█████████████████████████████████████████████████████████████████████████████████████████████████████████████████████████████████████████████| 251/251 [04:18<00:00,  1.03s/it, loss=0.103]\n"
     ]
    },
    {
     "name": "stdout",
     "output_type": "stream",
     "text": [
      "=> Saving checkpoint\n",
      "Got 97207729/100502528 with acc 96.72\n",
      "Dice score: 0.9383165836334229\n"
     ]
    }
   ],
   "source": [
    "model = UNet().to(device)\n",
    "\n",
    "Load_model = False\n",
    "learning_rate = 1e-4\n",
    "num_epochs = 50\n",
    "\n",
    "criterion = nn.BCEWithLogitsLoss()\n",
    "optimizer = optim.Adam(model.parameters(), lr=learning_rate)\n",
    "\n",
    "if Load_model:\n",
    "    load_checkpoint(torch.load(\"my_checkpoint.pth.tar\"), model)\n",
    "    \n",
    "scaler = torch.cuda.amp.GradScaler()\n",
    "\n",
    "for epoch in range(num_epochs):\n",
    "    train_fn(model, train_loader, criterion, optimizer, scaler)\n",
    "\n",
    "    # Save model\n",
    "    checkpoint = {\n",
    "        \"state dict\": model.state_dict(),\n",
    "        \"optimizer\": optimizer.state_dict()\n",
    "    }\n",
    "    save_checkpoint(checkpoint)\n",
    "\n",
    "    # check accuracy\n",
    "    check_accuracy(val_loader, model)\n",
    "\n",
    "    # save images\n",
    "    save_predictions_as_imgs(val_loader, model, folder=\"skin_cancer/Final_project/segmented_images/\") "
   ]
  }
 ],
 "metadata": {
  "kernelspec": {
   "display_name": "Python 3 (ipykernel)",
   "language": "python",
   "name": "python3"
  },
  "language_info": {
   "codemirror_mode": {
    "name": "ipython",
    "version": 3
   },
   "file_extension": ".py",
   "mimetype": "text/x-python",
   "name": "python",
   "nbconvert_exporter": "python",
   "pygments_lexer": "ipython3",
   "version": "3.10.13"
  }
 },
 "nbformat": 4,
 "nbformat_minor": 5
}
